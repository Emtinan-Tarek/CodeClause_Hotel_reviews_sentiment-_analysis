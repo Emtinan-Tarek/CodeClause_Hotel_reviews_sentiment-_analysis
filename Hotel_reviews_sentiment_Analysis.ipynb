{
 "nbformat": 4,
 "nbformat_minor": 0,
 "metadata": {
  "colab": {
   "provenance": [],
   "collapsed_sections": []
  },
  "kernelspec": {
   "name": "python3",
   "display_name": "Python 3"
  },
  "language_info": {
   "name": "python"
  }
 },
 "cells": [
  {
   "cell_type": "markdown",
   "source": [
    "**IMPORTING LIBRARIES**"
   ],
   "metadata": {
    "id": "n1gLIUlk9F2a",
    "pycharm": {
     "name": "#%% md\n"
    }
   }
  },
  {
   "cell_type": "code",
   "execution_count": 7,
   "metadata": {
    "id": "Vk3nekJ-DSvo",
    "pycharm": {
     "name": "#%%\n"
    }
   },
   "outputs": [],
   "source": [
    "import pandas as pd\n",
    "import numpy as np\n",
    "from sklearn.model_selection import train_test_split\n",
    "from sklearn.feature_extraction.text import CountVectorizer\n",
    "from sklearn import svm\n",
    "from textblob import TextBlob\n",
    "from sklearn.neighbors import KNeighborsClassifier\n",
    "from sklearn.metrics import classification_report\n",
    "from sklearn import tree\n",
    "from sklearn.linear_model import LogisticRegression\n",
    "from sklearn.model_selection import GridSearchCV\n"
   ]
  },
  {
   "cell_type": "code",
   "source": [
    "import random\n",
    "\n",
    "def sentiment_func(label):\n",
    "    if label <0:\n",
    "        return \"NEGATIVE\"\n",
    "    elif label <= 0.2:\n",
    "        return \"NEUTRAL\"\n",
    "    elif label > 0.2:\n",
    "        return \"POSITIVE\"\n",
    "        "
   ],
   "metadata": {
    "id": "Bvt0ulLTDf5J",
    "pycharm": {
     "name": "#%%\n"
    }
   },
   "execution_count": 8,
   "outputs": []
  },
  {
   "cell_type": "code",
   "source": [
    "df = pd.read_csv(r'Datafiniti_Hotel_Reviews_Jun19.csv')\n",
    "df"
   ],
   "metadata": {
    "colab": {
     "base_uri": "https://localhost:8080/",
     "height": 241
    },
    "id": "0_ta_khwDiw3",
    "outputId": "69f3970b-4c7f-4c05-81fe-96aa726a1c90",
    "pycharm": {
     "name": "#%%\n"
    }
   },
   "execution_count": 9,
   "outputs": [
    {
     "data": {
      "text/plain": "                                           reviews.text\n0     This hotel was nice and quiet. Did not know, t...\n1     We stayed in the king suite with the separatio...\n2     Parking was horrible, somebody ran into my ren...\n3     Not cheap but excellent location. Price is som...\n4     If you get the room that they advertised on th...\n...                                                 ...\n9995  My friends and I took a trip to Hampton for th...\n9996  from check in to departure, staff is friendly,...\n9997  This Hampton is located on a quiet street acro...\n9998  Awesome wings (my favorite was garlic parmesan...\n9999  Clean facility just off freeway ..... staff fr...\n\n[10000 rows x 1 columns]",
      "text/html": "<div>\n<style scoped>\n    .dataframe tbody tr th:only-of-type {\n        vertical-align: middle;\n    }\n\n    .dataframe tbody tr th {\n        vertical-align: top;\n    }\n\n    .dataframe thead th {\n        text-align: right;\n    }\n</style>\n<table border=\"1\" class=\"dataframe\">\n  <thead>\n    <tr style=\"text-align: right;\">\n      <th></th>\n      <th>reviews.text</th>\n    </tr>\n  </thead>\n  <tbody>\n    <tr>\n      <th>0</th>\n      <td>This hotel was nice and quiet. Did not know, t...</td>\n    </tr>\n    <tr>\n      <th>1</th>\n      <td>We stayed in the king suite with the separatio...</td>\n    </tr>\n    <tr>\n      <th>2</th>\n      <td>Parking was horrible, somebody ran into my ren...</td>\n    </tr>\n    <tr>\n      <th>3</th>\n      <td>Not cheap but excellent location. Price is som...</td>\n    </tr>\n    <tr>\n      <th>4</th>\n      <td>If you get the room that they advertised on th...</td>\n    </tr>\n    <tr>\n      <th>...</th>\n      <td>...</td>\n    </tr>\n    <tr>\n      <th>9995</th>\n      <td>My friends and I took a trip to Hampton for th...</td>\n    </tr>\n    <tr>\n      <th>9996</th>\n      <td>from check in to departure, staff is friendly,...</td>\n    </tr>\n    <tr>\n      <th>9997</th>\n      <td>This Hampton is located on a quiet street acro...</td>\n    </tr>\n    <tr>\n      <th>9998</th>\n      <td>Awesome wings (my favorite was garlic parmesan...</td>\n    </tr>\n    <tr>\n      <th>9999</th>\n      <td>Clean facility just off freeway ..... staff fr...</td>\n    </tr>\n  </tbody>\n</table>\n<p>10000 rows × 1 columns</p>\n</div>"
     },
     "execution_count": 9,
     "metadata": {},
     "output_type": "execute_result"
    }
   ]
  },
  {
   "cell_type": "code",
   "source": [
    "df = df.loc[:, df.columns.intersection(['reviews.text'])]\n",
    "inplace=True\n",
    "df"
   ],
   "metadata": {
    "id": "lPcnoT-GDlJM",
    "pycharm": {
     "name": "#%%\n"
    }
   },
   "execution_count": 10,
   "outputs": [
    {
     "data": {
      "text/plain": "                                           reviews.text\n0     This hotel was nice and quiet. Did not know, t...\n1     We stayed in the king suite with the separatio...\n2     Parking was horrible, somebody ran into my ren...\n3     Not cheap but excellent location. Price is som...\n4     If you get the room that they advertised on th...\n...                                                 ...\n9995  My friends and I took a trip to Hampton for th...\n9996  from check in to departure, staff is friendly,...\n9997  This Hampton is located on a quiet street acro...\n9998  Awesome wings (my favorite was garlic parmesan...\n9999  Clean facility just off freeway ..... staff fr...\n\n[10000 rows x 1 columns]",
      "text/html": "<div>\n<style scoped>\n    .dataframe tbody tr th:only-of-type {\n        vertical-align: middle;\n    }\n\n    .dataframe tbody tr th {\n        vertical-align: top;\n    }\n\n    .dataframe thead th {\n        text-align: right;\n    }\n</style>\n<table border=\"1\" class=\"dataframe\">\n  <thead>\n    <tr style=\"text-align: right;\">\n      <th></th>\n      <th>reviews.text</th>\n    </tr>\n  </thead>\n  <tbody>\n    <tr>\n      <th>0</th>\n      <td>This hotel was nice and quiet. Did not know, t...</td>\n    </tr>\n    <tr>\n      <th>1</th>\n      <td>We stayed in the king suite with the separatio...</td>\n    </tr>\n    <tr>\n      <th>2</th>\n      <td>Parking was horrible, somebody ran into my ren...</td>\n    </tr>\n    <tr>\n      <th>3</th>\n      <td>Not cheap but excellent location. Price is som...</td>\n    </tr>\n    <tr>\n      <th>4</th>\n      <td>If you get the room that they advertised on th...</td>\n    </tr>\n    <tr>\n      <th>...</th>\n      <td>...</td>\n    </tr>\n    <tr>\n      <th>9995</th>\n      <td>My friends and I took a trip to Hampton for th...</td>\n    </tr>\n    <tr>\n      <th>9996</th>\n      <td>from check in to departure, staff is friendly,...</td>\n    </tr>\n    <tr>\n      <th>9997</th>\n      <td>This Hampton is located on a quiet street acro...</td>\n    </tr>\n    <tr>\n      <th>9998</th>\n      <td>Awesome wings (my favorite was garlic parmesan...</td>\n    </tr>\n    <tr>\n      <th>9999</th>\n      <td>Clean facility just off freeway ..... staff fr...</td>\n    </tr>\n  </tbody>\n</table>\n<p>10000 rows × 1 columns</p>\n</div>"
     },
     "execution_count": 10,
     "metadata": {},
     "output_type": "execute_result"
    }
   ]
  },
  {
   "cell_type": "code",
   "source": [
    "df.info()\n",
    "df.describe()"
   ],
   "metadata": {
    "id": "OqKLpiZjDn5m",
    "pycharm": {
     "name": "#%%\n"
    }
   },
   "execution_count": 11,
   "outputs": [
    {
     "name": "stdout",
     "output_type": "stream",
     "text": [
      "<class 'pandas.core.frame.DataFrame'>\n",
      "RangeIndex: 10000 entries, 0 to 9999\n",
      "Data columns (total 1 columns):\n",
      " #   Column        Non-Null Count  Dtype \n",
      "---  ------        --------------  ----- \n",
      " 0   reviews.text  10000 non-null  object\n",
      "dtypes: object(1)\n",
      "memory usage: 78.2+ KB\n"
     ]
    },
    {
     "data": {
      "text/plain": "       reviews.text\ncount         10000\nunique         9770\ntop        MoreMore\nfreq             18",
      "text/html": "<div>\n<style scoped>\n    .dataframe tbody tr th:only-of-type {\n        vertical-align: middle;\n    }\n\n    .dataframe tbody tr th {\n        vertical-align: top;\n    }\n\n    .dataframe thead th {\n        text-align: right;\n    }\n</style>\n<table border=\"1\" class=\"dataframe\">\n  <thead>\n    <tr style=\"text-align: right;\">\n      <th></th>\n      <th>reviews.text</th>\n    </tr>\n  </thead>\n  <tbody>\n    <tr>\n      <th>count</th>\n      <td>10000</td>\n    </tr>\n    <tr>\n      <th>unique</th>\n      <td>9770</td>\n    </tr>\n    <tr>\n      <th>top</th>\n      <td>MoreMore</td>\n    </tr>\n    <tr>\n      <th>freq</th>\n      <td>18</td>\n    </tr>\n  </tbody>\n</table>\n</div>"
     },
     "execution_count": 11,
     "metadata": {},
     "output_type": "execute_result"
    }
   ]
  },
  {
   "cell_type": "code",
   "source": [
    "def review_polarity(text):\n",
    "    return TextBlob(text).sentiment.polarity"
   ],
   "metadata": {
    "id": "64IYj7VKDqNQ",
    "pycharm": {
     "name": "#%%\n"
    }
   },
   "execution_count": 12,
   "outputs": []
  },
  {
   "cell_type": "code",
   "source": [
    "df['polarity'] = df['reviews.text'].apply(review_polarity)\n",
    "df.head(10)"
   ],
   "metadata": {
    "id": "SC3jjlMUDsRB",
    "pycharm": {
     "name": "#%%\n"
    }
   },
   "execution_count": 13,
   "outputs": [
    {
     "data": {
      "text/plain": "                                        reviews.text  polarity\n0  This hotel was nice and quiet. Did not know, t...  0.187500\n1  We stayed in the king suite with the separatio...  0.399524\n2  Parking was horrible, somebody ran into my ren... -0.350000\n3  Not cheap but excellent location. Price is som...  0.495238\n4  If you get the room that they advertised on th...  0.214286\n5  This is such a fun, lovely hotel. The attentio...  0.198077\n6  We recently stayed at this hotel on a trip to ...  0.182143\n7  I reserved a room a week in advance, knowing a... -0.400000\n8                                           MoreMore  0.000000\n9  Hello, I have traveled a lot and abroad and by... -0.342857",
      "text/html": "<div>\n<style scoped>\n    .dataframe tbody tr th:only-of-type {\n        vertical-align: middle;\n    }\n\n    .dataframe tbody tr th {\n        vertical-align: top;\n    }\n\n    .dataframe thead th {\n        text-align: right;\n    }\n</style>\n<table border=\"1\" class=\"dataframe\">\n  <thead>\n    <tr style=\"text-align: right;\">\n      <th></th>\n      <th>reviews.text</th>\n      <th>polarity</th>\n    </tr>\n  </thead>\n  <tbody>\n    <tr>\n      <th>0</th>\n      <td>This hotel was nice and quiet. Did not know, t...</td>\n      <td>0.187500</td>\n    </tr>\n    <tr>\n      <th>1</th>\n      <td>We stayed in the king suite with the separatio...</td>\n      <td>0.399524</td>\n    </tr>\n    <tr>\n      <th>2</th>\n      <td>Parking was horrible, somebody ran into my ren...</td>\n      <td>-0.350000</td>\n    </tr>\n    <tr>\n      <th>3</th>\n      <td>Not cheap but excellent location. Price is som...</td>\n      <td>0.495238</td>\n    </tr>\n    <tr>\n      <th>4</th>\n      <td>If you get the room that they advertised on th...</td>\n      <td>0.214286</td>\n    </tr>\n    <tr>\n      <th>5</th>\n      <td>This is such a fun, lovely hotel. The attentio...</td>\n      <td>0.198077</td>\n    </tr>\n    <tr>\n      <th>6</th>\n      <td>We recently stayed at this hotel on a trip to ...</td>\n      <td>0.182143</td>\n    </tr>\n    <tr>\n      <th>7</th>\n      <td>I reserved a room a week in advance, knowing a...</td>\n      <td>-0.400000</td>\n    </tr>\n    <tr>\n      <th>8</th>\n      <td>MoreMore</td>\n      <td>0.000000</td>\n    </tr>\n    <tr>\n      <th>9</th>\n      <td>Hello, I have traveled a lot and abroad and by...</td>\n      <td>-0.342857</td>\n    </tr>\n  </tbody>\n</table>\n</div>"
     },
     "execution_count": 13,
     "metadata": {},
     "output_type": "execute_result"
    }
   ]
  },
  {
   "cell_type": "code",
   "source": [
    "df['sentiment'] = df['polarity'].apply(sentiment_func)\n",
    "df.head(18)"
   ],
   "metadata": {
    "id": "fMXzq_wjDuTe",
    "pycharm": {
     "name": "#%%\n"
    }
   },
   "execution_count": 14,
   "outputs": [
    {
     "data": {
      "text/plain": "                                         reviews.text  polarity sentiment\n0   This hotel was nice and quiet. Did not know, t...  0.187500   NEUTRAL\n1   We stayed in the king suite with the separatio...  0.399524  POSITIVE\n2   Parking was horrible, somebody ran into my ren... -0.350000  NEGATIVE\n3   Not cheap but excellent location. Price is som...  0.495238  POSITIVE\n4   If you get the room that they advertised on th...  0.214286  POSITIVE\n5   This is such a fun, lovely hotel. The attentio...  0.198077   NEUTRAL\n6   We recently stayed at this hotel on a trip to ...  0.182143   NEUTRAL\n7   I reserved a room a week in advance, knowing a... -0.400000  NEGATIVE\n8                                            MoreMore  0.000000   NEUTRAL\n9   Hello, I have traveled a lot and abroad and by... -0.342857  NEGATIVE\n10  This is a new Hampton Inn and is well decorate...  0.141970   NEUTRAL\n11  I stayed here for three nights while I explore...  0.318182  POSITIVE\n12  Completely accommodating hotel! I booked a res...  0.107500   NEUTRAL\n13  The water is very hot and there's no cold wate...  0.125574   NEUTRAL\n14  Great staff and rooms. Housekeeping was always...  0.538636  POSITIVE\n15  This Hotel, formerly a prestigious bank, may b... -0.041127  NEGATIVE\n16  Very accommodating staff. Competitive pricing ...  0.266465  POSITIVE\n17  Room was much larger than I expected, and wate...  0.361980  POSITIVE",
      "text/html": "<div>\n<style scoped>\n    .dataframe tbody tr th:only-of-type {\n        vertical-align: middle;\n    }\n\n    .dataframe tbody tr th {\n        vertical-align: top;\n    }\n\n    .dataframe thead th {\n        text-align: right;\n    }\n</style>\n<table border=\"1\" class=\"dataframe\">\n  <thead>\n    <tr style=\"text-align: right;\">\n      <th></th>\n      <th>reviews.text</th>\n      <th>polarity</th>\n      <th>sentiment</th>\n    </tr>\n  </thead>\n  <tbody>\n    <tr>\n      <th>0</th>\n      <td>This hotel was nice and quiet. Did not know, t...</td>\n      <td>0.187500</td>\n      <td>NEUTRAL</td>\n    </tr>\n    <tr>\n      <th>1</th>\n      <td>We stayed in the king suite with the separatio...</td>\n      <td>0.399524</td>\n      <td>POSITIVE</td>\n    </tr>\n    <tr>\n      <th>2</th>\n      <td>Parking was horrible, somebody ran into my ren...</td>\n      <td>-0.350000</td>\n      <td>NEGATIVE</td>\n    </tr>\n    <tr>\n      <th>3</th>\n      <td>Not cheap but excellent location. Price is som...</td>\n      <td>0.495238</td>\n      <td>POSITIVE</td>\n    </tr>\n    <tr>\n      <th>4</th>\n      <td>If you get the room that they advertised on th...</td>\n      <td>0.214286</td>\n      <td>POSITIVE</td>\n    </tr>\n    <tr>\n      <th>5</th>\n      <td>This is such a fun, lovely hotel. The attentio...</td>\n      <td>0.198077</td>\n      <td>NEUTRAL</td>\n    </tr>\n    <tr>\n      <th>6</th>\n      <td>We recently stayed at this hotel on a trip to ...</td>\n      <td>0.182143</td>\n      <td>NEUTRAL</td>\n    </tr>\n    <tr>\n      <th>7</th>\n      <td>I reserved a room a week in advance, knowing a...</td>\n      <td>-0.400000</td>\n      <td>NEGATIVE</td>\n    </tr>\n    <tr>\n      <th>8</th>\n      <td>MoreMore</td>\n      <td>0.000000</td>\n      <td>NEUTRAL</td>\n    </tr>\n    <tr>\n      <th>9</th>\n      <td>Hello, I have traveled a lot and abroad and by...</td>\n      <td>-0.342857</td>\n      <td>NEGATIVE</td>\n    </tr>\n    <tr>\n      <th>10</th>\n      <td>This is a new Hampton Inn and is well decorate...</td>\n      <td>0.141970</td>\n      <td>NEUTRAL</td>\n    </tr>\n    <tr>\n      <th>11</th>\n      <td>I stayed here for three nights while I explore...</td>\n      <td>0.318182</td>\n      <td>POSITIVE</td>\n    </tr>\n    <tr>\n      <th>12</th>\n      <td>Completely accommodating hotel! I booked a res...</td>\n      <td>0.107500</td>\n      <td>NEUTRAL</td>\n    </tr>\n    <tr>\n      <th>13</th>\n      <td>The water is very hot and there's no cold wate...</td>\n      <td>0.125574</td>\n      <td>NEUTRAL</td>\n    </tr>\n    <tr>\n      <th>14</th>\n      <td>Great staff and rooms. Housekeeping was always...</td>\n      <td>0.538636</td>\n      <td>POSITIVE</td>\n    </tr>\n    <tr>\n      <th>15</th>\n      <td>This Hotel, formerly a prestigious bank, may b...</td>\n      <td>-0.041127</td>\n      <td>NEGATIVE</td>\n    </tr>\n    <tr>\n      <th>16</th>\n      <td>Very accommodating staff. Competitive pricing ...</td>\n      <td>0.266465</td>\n      <td>POSITIVE</td>\n    </tr>\n    <tr>\n      <th>17</th>\n      <td>Room was much larger than I expected, and wate...</td>\n      <td>0.361980</td>\n      <td>POSITIVE</td>\n    </tr>\n  </tbody>\n</table>\n</div>"
     },
     "execution_count": 14,
     "metadata": {},
     "output_type": "execute_result"
    }
   ]
  },
  {
   "cell_type": "code",
   "source": [
    "rating = df.iloc[:,2]\n",
    "review = df.iloc[:,0]"
   ],
   "metadata": {
    "id": "iZ8VH11xDzLa",
    "pycharm": {
     "name": "#%%\n"
    }
   },
   "execution_count": 15,
   "outputs": []
  },
  {
   "cell_type": "code",
   "source": [
    "review_train, review_test, rating_train, rating_test = train_test_split(review, rating, test_size=0.2, random_state=42)"
   ],
   "metadata": {
    "id": "La7yXWgGD0MC",
    "pycharm": {
     "name": "#%%\n"
    }
   },
   "execution_count": 16,
   "outputs": []
  },
  {
   "cell_type": "code",
   "source": [
    "print(rating_train)"
   ],
   "metadata": {
    "id": "3iUW_eM_D2ry",
    "pycharm": {
     "name": "#%%\n"
    }
   },
   "execution_count": 17,
   "outputs": [
    {
     "name": "stdout",
     "output_type": "stream",
     "text": [
      "9254     NEUTRAL\n",
      "1561    POSITIVE\n",
      "1670    POSITIVE\n",
      "6087     NEUTRAL\n",
      "6669    POSITIVE\n",
      "          ...   \n",
      "5734    POSITIVE\n",
      "5191    POSITIVE\n",
      "5390     NEUTRAL\n",
      "860     POSITIVE\n",
      "7270    POSITIVE\n",
      "Name: sentiment, Length: 8000, dtype: object\n"
     ]
    }
   ]
  },
  {
   "cell_type": "code",
   "source": [
    "count_vect = CountVectorizer()\n",
    "# rvwtrain=['review_train']\n",
    "# rvwtest=['review_test']\n",
    "# ratetrain=['rating_train']\n",
    "# ratetest=['rating_test']\n",
    "\n",
    "X_train_counts = count_vect.fit_transform(review_train)\n",
    "X_test_counts = count_vect.transform(review_test)\n",
    "X_train_counts.shape"
   ],
   "metadata": {
    "id": "i3mzo_95D5c7",
    "pycharm": {
     "name": "#%%\n"
    }
   },
   "execution_count": 18,
   "outputs": [
    {
     "data": {
      "text/plain": "(8000, 19938)"
     },
     "execution_count": 18,
     "metadata": {},
     "output_type": "execute_result"
    }
   ]
  },
  {
   "cell_type": "code",
   "source": [
    "# print(X_train_counts[0].toarray())\n",
    "Index_label = df[df['polarity']==0.2].index.tolist()\n",
    "  \n",
    "# Print all the labels\n",
    "print(Index_label)"
   ],
   "metadata": {
    "id": "evtC2gqqD8EO",
    "pycharm": {
     "name": "#%%\n"
    }
   },
   "execution_count": 19,
   "outputs": [
    {
     "name": "stdout",
     "output_type": "stream",
     "text": [
      "[446, 689, 2029, 2130, 2229, 2657, 3460, 3466, 3498, 3801, 4077, 5177, 8505, 8661]\n"
     ]
    }
   ]
  },
  {
   "cell_type": "code",
   "source": [
    "svm_class = svm.SVC(C=0.1, gamma=1, kernel='linear')\n",
    "svm_class.fit(X_train_counts,rating_train)\n",
    "# review_test[0]\n",
    "svmpredict=svm_class.predict(X_test_counts)\n",
    "print(classification_report(rating_test, svmpredict))"
   ],
   "metadata": {
    "id": "LmNtZeh5D9zV",
    "pycharm": {
     "name": "#%%\n"
    }
   },
   "execution_count": 20,
   "outputs": [
    {
     "name": "stdout",
     "output_type": "stream",
     "text": [
      "              precision    recall  f1-score   support\n",
      "\n",
      "    NEGATIVE       0.57      0.49      0.53        98\n",
      "     NEUTRAL       0.70      0.64      0.67       468\n",
      "    POSITIVE       0.91      0.94      0.92      1434\n",
      "\n",
      "    accuracy                           0.85      2000\n",
      "   macro avg       0.72      0.69      0.71      2000\n",
      "weighted avg       0.84      0.85      0.84      2000\n",
      "\n"
     ]
    }
   ]
  },
  {
   "cell_type": "code",
   "source": [
    "\n",
    "knn = KNeighborsClassifier(n_neighbors=3)\n",
    "\n",
    "knn.fit(X_train_counts, rating_train)\n",
    "predictedknn = knn.predict(X_test_counts)\n",
    "# Calculate the accuracy of the model\n",
    "print(classification_report(rating_test, predictedknn))"
   ],
   "metadata": {
    "id": "KDnf7GZPD_vP",
    "pycharm": {
     "name": "#%%\n"
    }
   },
   "execution_count": 21,
   "outputs": [
    {
     "name": "stdout",
     "output_type": "stream",
     "text": [
      "              precision    recall  f1-score   support\n",
      "\n",
      "    NEGATIVE       0.19      0.14      0.16        98\n",
      "     NEUTRAL       0.45      0.24      0.31       468\n",
      "    POSITIVE       0.77      0.90      0.83      1434\n",
      "\n",
      "    accuracy                           0.71      2000\n",
      "   macro avg       0.47      0.43      0.43      2000\n",
      "weighted avg       0.67      0.71      0.68      2000\n",
      "\n"
     ]
    }
   ]
  },
  {
   "cell_type": "code",
   "source": [
    "dt = tree.DecisionTreeClassifier()\n",
    "dt = dt.fit(X_train_counts, rating_train)\n",
    "predictdt = dt.predict(X_test_counts)\n",
    "print(classification_report(rating_test, predictdt))\n",
    "# max_depth = 5 , criterion = 'entropy', random_state = 42"
   ],
   "metadata": {
    "id": "NzDNxjSeECmG",
    "pycharm": {
     "name": "#%%\n"
    }
   },
   "execution_count": 22,
   "outputs": [
    {
     "name": "stdout",
     "output_type": "stream",
     "text": [
      "              precision    recall  f1-score   support\n",
      "\n",
      "    NEGATIVE       0.36      0.33      0.34        98\n",
      "     NEUTRAL       0.46      0.43      0.44       468\n",
      "    POSITIVE       0.83      0.86      0.85      1434\n",
      "\n",
      "    accuracy                           0.73      2000\n",
      "   macro avg       0.55      0.54      0.55      2000\n",
      "weighted avg       0.72      0.73      0.73      2000\n",
      "\n"
     ]
    }
   ]
  },
  {
   "cell_type": "code",
   "source": [
    "log_classifier = LogisticRegression(multi_class='multinomial', solver='lbfgs',random_state = 42)\n",
    "log_classifier.fit(X_train_counts, rating_train)\n",
    "logpred = log_classifier.predict(X_test_counts)\n",
    "print(classification_report(rating_test, logpred))"
   ],
   "metadata": {
    "id": "QQ9_yfsMEEsP",
    "pycharm": {
     "name": "#%%\n"
    }
   },
   "execution_count": 23,
   "outputs": [
    {
     "name": "stdout",
     "output_type": "stream",
     "text": [
      "              precision    recall  f1-score   support\n",
      "\n",
      "    NEGATIVE       0.60      0.42      0.49        98\n",
      "     NEUTRAL       0.69      0.65      0.67       468\n",
      "    POSITIVE       0.90      0.94      0.92      1434\n",
      "\n",
      "    accuracy                           0.85      2000\n",
      "   macro avg       0.73      0.67      0.69      2000\n",
      "weighted avg       0.84      0.85      0.84      2000\n",
      "\n"
     ]
    },
    {
     "name": "stderr",
     "output_type": "stream",
     "text": [
      "C:\\Users\\HP\\anaconda3\\lib\\site-packages\\sklearn\\linear_model\\_logistic.py:763: ConvergenceWarning: lbfgs failed to converge (status=1):\n",
      "STOP: TOTAL NO. of ITERATIONS REACHED LIMIT.\n",
      "\n",
      "Increase the number of iterations (max_iter) or scale the data as shown in:\n",
      "    https://scikit-learn.org/stable/modules/preprocessing.html\n",
      "Please also refer to the documentation for alternative solver options:\n",
      "    https://scikit-learn.org/stable/modules/linear_model.html#logistic-regression\n",
      "  n_iter_i = _check_optimize_result(\n"
     ]
    }
   ]
  },
  {
   "cell_type": "code",
   "execution_count": 24,
   "outputs": [
    {
     "name": "stdout",
     "output_type": "stream",
     "text": [
      "Fitting 5 folds for each of 20 candidates, totalling 100 fits\n",
      "[CV 1/5] END ........C=0.1, gamma=1, kernel=rbf;, score=0.725 total time=  58.3s\n",
      "[CV 2/5] END ........C=0.1, gamma=1, kernel=rbf;, score=0.726 total time= 1.0min\n",
      "[CV 3/5] END ........C=0.1, gamma=1, kernel=rbf;, score=0.726 total time= 1.0min\n",
      "[CV 4/5] END ........C=0.1, gamma=1, kernel=rbf;, score=0.727 total time=  54.2s\n",
      "[CV 5/5] END ........C=0.1, gamma=1, kernel=rbf;, score=0.724 total time=  54.1s\n",
      "[CV 1/5] END .....C=0.1, gamma=1, kernel=linear;, score=0.848 total time=  17.5s\n",
      "[CV 2/5] END .....C=0.1, gamma=1, kernel=linear;, score=0.861 total time=  20.1s\n",
      "[CV 3/5] END .....C=0.1, gamma=1, kernel=linear;, score=0.851 total time=  17.2s\n",
      "[CV 4/5] END .....C=0.1, gamma=1, kernel=linear;, score=0.831 total time=  17.0s\n",
      "[CV 5/5] END .....C=0.1, gamma=1, kernel=linear;, score=0.849 total time=  17.4s\n",
      "[CV 1/5] END ......C=0.1, gamma=0.1, kernel=rbf;, score=0.725 total time=  53.0s\n",
      "[CV 2/5] END ......C=0.1, gamma=0.1, kernel=rbf;, score=0.724 total time=  53.7s\n",
      "[CV 3/5] END ......C=0.1, gamma=0.1, kernel=rbf;, score=0.726 total time=  54.2s\n",
      "[CV 4/5] END ......C=0.1, gamma=0.1, kernel=rbf;, score=0.724 total time=  54.5s\n",
      "[CV 5/5] END ......C=0.1, gamma=0.1, kernel=rbf;, score=0.724 total time=  53.3s\n",
      "[CV 1/5] END ...C=0.1, gamma=0.1, kernel=linear;, score=0.848 total time=  17.3s\n",
      "[CV 2/5] END ...C=0.1, gamma=0.1, kernel=linear;, score=0.861 total time=  17.4s\n",
      "[CV 3/5] END ...C=0.1, gamma=0.1, kernel=linear;, score=0.851 total time=  17.1s\n",
      "[CV 4/5] END ...C=0.1, gamma=0.1, kernel=linear;, score=0.831 total time=  17.2s\n",
      "[CV 5/5] END ...C=0.1, gamma=0.1, kernel=linear;, score=0.849 total time=  17.6s\n",
      "[CV 1/5] END .....C=0.1, gamma=0.01, kernel=rbf;, score=0.724 total time=  35.8s\n",
      "[CV 2/5] END .....C=0.1, gamma=0.01, kernel=rbf;, score=0.724 total time=  35.5s\n",
      "[CV 3/5] END .....C=0.1, gamma=0.01, kernel=rbf;, score=0.724 total time=  37.7s\n",
      "[CV 4/5] END .....C=0.1, gamma=0.01, kernel=rbf;, score=0.724 total time=  35.3s\n",
      "[CV 5/5] END .....C=0.1, gamma=0.01, kernel=rbf;, score=0.723 total time=  35.6s\n",
      "[CV 1/5] END ..C=0.1, gamma=0.01, kernel=linear;, score=0.848 total time=  17.3s\n",
      "[CV 2/5] END ..C=0.1, gamma=0.01, kernel=linear;, score=0.861 total time=  17.2s\n",
      "[CV 3/5] END ..C=0.1, gamma=0.01, kernel=linear;, score=0.851 total time=  17.7s\n",
      "[CV 4/5] END ..C=0.1, gamma=0.01, kernel=linear;, score=0.831 total time=  19.0s\n",
      "[CV 5/5] END ..C=0.1, gamma=0.01, kernel=linear;, score=0.849 total time=  19.1s\n",
      "[CV 1/5] END ....C=0.1, gamma=0.001, kernel=rbf;, score=0.729 total time=  30.5s\n",
      "[CV 2/5] END ....C=0.1, gamma=0.001, kernel=rbf;, score=0.736 total time=  27.3s\n",
      "[CV 3/5] END ....C=0.1, gamma=0.001, kernel=rbf;, score=0.729 total time=  27.2s\n",
      "[CV 4/5] END ....C=0.1, gamma=0.001, kernel=rbf;, score=0.732 total time=  27.3s\n",
      "[CV 5/5] END ....C=0.1, gamma=0.001, kernel=rbf;, score=0.732 total time=  27.2s\n",
      "[CV 1/5] END .C=0.1, gamma=0.001, kernel=linear;, score=0.848 total time=  17.5s\n",
      "[CV 2/5] END .C=0.1, gamma=0.001, kernel=linear;, score=0.861 total time=  17.9s\n",
      "[CV 3/5] END .C=0.1, gamma=0.001, kernel=linear;, score=0.851 total time=  17.3s\n",
      "[CV 4/5] END .C=0.1, gamma=0.001, kernel=linear;, score=0.831 total time=  17.2s\n",
      "[CV 5/5] END .C=0.1, gamma=0.001, kernel=linear;, score=0.849 total time=  19.6s\n",
      "[CV 1/5] END ...C=0.1, gamma=0.0001, kernel=rbf;, score=0.724 total time=  30.3s\n",
      "[CV 2/5] END ...C=0.1, gamma=0.0001, kernel=rbf;, score=0.724 total time=  28.6s\n",
      "[CV 3/5] END ...C=0.1, gamma=0.0001, kernel=rbf;, score=0.723 total time=  26.9s\n",
      "[CV 4/5] END ...C=0.1, gamma=0.0001, kernel=rbf;, score=0.724 total time=  26.6s\n",
      "[CV 5/5] END ...C=0.1, gamma=0.0001, kernel=rbf;, score=0.723 total time=  26.6s\n",
      "[CV 1/5] END C=0.1, gamma=0.0001, kernel=linear;, score=0.848 total time=  17.4s\n",
      "[CV 2/5] END C=0.1, gamma=0.0001, kernel=linear;, score=0.861 total time=  17.5s\n",
      "[CV 3/5] END C=0.1, gamma=0.0001, kernel=linear;, score=0.851 total time=  17.2s\n",
      "[CV 4/5] END C=0.1, gamma=0.0001, kernel=linear;, score=0.831 total time=  17.1s\n",
      "[CV 5/5] END C=0.1, gamma=0.0001, kernel=linear;, score=0.849 total time=  17.3s\n",
      "[CV 1/5] END ..........C=1, gamma=1, kernel=rbf;, score=0.733 total time=  55.2s\n",
      "[CV 2/5] END ..........C=1, gamma=1, kernel=rbf;, score=0.731 total time=  56.9s\n",
      "[CV 3/5] END ..........C=1, gamma=1, kernel=rbf;, score=0.731 total time=  57.3s\n",
      "[CV 4/5] END ..........C=1, gamma=1, kernel=rbf;, score=0.733 total time=  55.9s\n",
      "[CV 5/5] END ..........C=1, gamma=1, kernel=rbf;, score=0.736 total time=  56.0s\n",
      "[CV 1/5] END .......C=1, gamma=1, kernel=linear;, score=0.843 total time=  17.0s\n",
      "[CV 2/5] END .......C=1, gamma=1, kernel=linear;, score=0.848 total time=  17.2s\n",
      "[CV 3/5] END .......C=1, gamma=1, kernel=linear;, score=0.848 total time=  17.2s\n",
      "[CV 4/5] END .......C=1, gamma=1, kernel=linear;, score=0.828 total time=  16.8s\n",
      "[CV 5/5] END .......C=1, gamma=1, kernel=linear;, score=0.856 total time=  17.3s\n",
      "[CV 1/5] END ........C=1, gamma=0.1, kernel=rbf;, score=0.733 total time=  54.7s\n",
      "[CV 2/5] END ........C=1, gamma=0.1, kernel=rbf;, score=0.731 total time=  54.8s\n",
      "[CV 3/5] END ........C=1, gamma=0.1, kernel=rbf;, score=0.731 total time=  55.4s\n",
      "[CV 4/5] END ........C=1, gamma=0.1, kernel=rbf;, score=0.733 total time=  55.7s\n",
      "[CV 5/5] END ........C=1, gamma=0.1, kernel=rbf;, score=0.737 total time=  56.6s\n",
      "[CV 1/5] END .....C=1, gamma=0.1, kernel=linear;, score=0.843 total time=  16.7s\n",
      "[CV 2/5] END .....C=1, gamma=0.1, kernel=linear;, score=0.848 total time=  16.9s\n",
      "[CV 3/5] END .....C=1, gamma=0.1, kernel=linear;, score=0.848 total time=  17.0s\n",
      "[CV 4/5] END .....C=1, gamma=0.1, kernel=linear;, score=0.828 total time=  16.6s\n",
      "[CV 5/5] END .....C=1, gamma=0.1, kernel=linear;, score=0.856 total time=  17.1s\n",
      "[CV 1/5] END .......C=1, gamma=0.01, kernel=rbf;, score=0.777 total time=  35.1s\n",
      "[CV 2/5] END .......C=1, gamma=0.01, kernel=rbf;, score=0.761 total time=  35.2s\n",
      "[CV 3/5] END .......C=1, gamma=0.01, kernel=rbf;, score=0.760 total time=  35.0s\n",
      "[CV 4/5] END .......C=1, gamma=0.01, kernel=rbf;, score=0.758 total time=  35.5s\n",
      "[CV 5/5] END .......C=1, gamma=0.01, kernel=rbf;, score=0.761 total time=  35.2s\n",
      "[CV 1/5] END ....C=1, gamma=0.01, kernel=linear;, score=0.843 total time=  16.7s\n",
      "[CV 2/5] END ....C=1, gamma=0.01, kernel=linear;, score=0.848 total time=  17.0s\n",
      "[CV 3/5] END ....C=1, gamma=0.01, kernel=linear;, score=0.848 total time=  16.9s\n",
      "[CV 4/5] END ....C=1, gamma=0.01, kernel=linear;, score=0.828 total time=  16.6s\n",
      "[CV 5/5] END ....C=1, gamma=0.01, kernel=linear;, score=0.856 total time=  18.1s\n",
      "[CV 1/5] END ......C=1, gamma=0.001, kernel=rbf;, score=0.774 total time=  24.8s\n",
      "[CV 2/5] END ......C=1, gamma=0.001, kernel=rbf;, score=0.767 total time=  24.3s\n",
      "[CV 3/5] END ......C=1, gamma=0.001, kernel=rbf;, score=0.776 total time=  24.4s\n",
      "[CV 4/5] END ......C=1, gamma=0.001, kernel=rbf;, score=0.765 total time=  24.2s\n",
      "[CV 5/5] END ......C=1, gamma=0.001, kernel=rbf;, score=0.784 total time=  24.4s\n",
      "[CV 1/5] END ...C=1, gamma=0.001, kernel=linear;, score=0.843 total time=  16.7s\n",
      "[CV 2/5] END ...C=1, gamma=0.001, kernel=linear;, score=0.848 total time=  17.0s\n",
      "[CV 3/5] END ...C=1, gamma=0.001, kernel=linear;, score=0.848 total time=  17.0s\n",
      "[CV 4/5] END ...C=1, gamma=0.001, kernel=linear;, score=0.828 total time=  16.6s\n",
      "[CV 5/5] END ...C=1, gamma=0.001, kernel=linear;, score=0.856 total time=  17.9s\n",
      "[CV 1/5] END .....C=1, gamma=0.0001, kernel=rbf;, score=0.734 total time=  26.9s\n",
      "[CV 2/5] END .....C=1, gamma=0.0001, kernel=rbf;, score=0.740 total time=  25.7s\n",
      "[CV 3/5] END .....C=1, gamma=0.0001, kernel=rbf;, score=0.733 total time=  25.7s\n",
      "[CV 4/5] END .....C=1, gamma=0.0001, kernel=rbf;, score=0.740 total time=  25.4s\n",
      "[CV 5/5] END .....C=1, gamma=0.0001, kernel=rbf;, score=0.742 total time=  26.0s\n",
      "[CV 1/5] END ..C=1, gamma=0.0001, kernel=linear;, score=0.843 total time=  16.9s\n",
      "[CV 2/5] END ..C=1, gamma=0.0001, kernel=linear;, score=0.848 total time=  17.2s\n",
      "[CV 3/5] END ..C=1, gamma=0.0001, kernel=linear;, score=0.848 total time=  17.3s\n",
      "[CV 4/5] END ..C=1, gamma=0.0001, kernel=linear;, score=0.828 total time=  16.8s\n",
      "[CV 5/5] END ..C=1, gamma=0.0001, kernel=linear;, score=0.856 total time=  17.3s\n",
      "{'C': 0.1, 'gamma': 1, 'kernel': 'linear'}\n",
      "SVC(C=0.1, gamma=1, kernel='linear')\n"
     ]
    }
   ],
   "source": [
    "param_grid = {'C': [0.1, 1], \n",
    "              'gamma': [1, 0.1, 0.01, 0.001, 0.0001],\n",
    "              'kernel': ['rbf','linear']} \n",
    "  \n",
    "grid = GridSearchCV(svm.SVC(), param_grid, refit = True, verbose = 3)\n",
    "  \n",
    "# fitting the model for grid search\n",
    "grid.fit(X_train_counts, rating_train)\n",
    "print(grid.best_params_)\n",
    "print(grid.best_estimator_)"
   ],
   "metadata": {
    "collapsed": false,
    "pycharm": {
     "name": "#%%\n"
    }
   }
  },
  {
   "cell_type": "code",
   "execution_count": 24,
   "outputs": [],
   "source": [],
   "metadata": {
    "collapsed": false,
    "pycharm": {
     "name": "#%%\n"
    }
   }
  },
  {
   "cell_type": "code",
   "execution_count": 24,
   "outputs": [],
   "source": [],
   "metadata": {
    "collapsed": false,
    "pycharm": {
     "name": "#%%\n"
    }
   }
  },
  {
   "cell_type": "code",
   "execution_count": 24,
   "outputs": [],
   "source": [],
   "metadata": {
    "collapsed": false,
    "pycharm": {
     "name": "#%%\n"
    }
   }
  },
  {
   "cell_type": "code",
   "execution_count": 24,
   "outputs": [],
   "source": [],
   "metadata": {
    "collapsed": false,
    "pycharm": {
     "name": "#%%\n"
    }
   }
  }
 ]
}